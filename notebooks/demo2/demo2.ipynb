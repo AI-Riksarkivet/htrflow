{
 "cells": [
  {
   "cell_type": "code",
   "execution_count": null,
   "metadata": {},
   "outputs": [],
   "source": [
    "from htrflow_core.models.huggingface.trocr import TrOCR\n",
    "from htrflow_core.models.ultralytics.yolo import YOLO\n",
    "from htrflow_core.volume import Volume\n",
    "\n",
    "img = '../assets/demo_image.jpg'\n",
    "vol = Volume([img, img])\n",
    "\n",
    "seg_model = YOLO('ultralyticsplus/yolov8s')\n",
    "res = seg_model(vol.images())  # vol.segments() is also possible since it points to the images\n",
    "vol.update(res)\n",
    "\n",
    "rec_model = TrOCR()\n",
    "res = rec_model(vol.segments())\n",
    "vol.update(res)\n",
    "\n",
    "# The final volume\n",
    "print(vol)\n",
    "\n",
    "# Saves at outputs/<image_name>.xml, since the two demo images are called the same, we get only one output file \n",
    "vol.save('outputs', 'alto')"
   ]
  }
 ],
 "metadata": {
  "language_info": {
   "name": "python"
  },
  "orig_nbformat": 4
 },
 "nbformat": 4,
 "nbformat_minor": 2
}
